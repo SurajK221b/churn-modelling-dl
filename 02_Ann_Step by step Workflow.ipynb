{
 "cells": [
  {
   "cell_type": "markdown",
   "id": "58298f65",
   "metadata": {},
   "source": []
  },
  {
   "cell_type": "markdown",
   "id": "e5a18419",
   "metadata": {},
   "source": [
    "# 🧠 Artificial Neural Network (ANN) for Binary Classification using TensorFlow & TensorBoard\n",
    "\n",
    "This guide provides an end-to-end pipeline to build an ANN model for binary classification using TensorFlow, including preprocessing, model creation, training with callbacks, and visualization using TensorBoard.\n",
    "\n",
    "---\n",
    "\n",
    "## 📌 Step-by-Step Workflow with Code\n",
    "\n",
    "---\n",
    "\n",
    "## 1️⃣ Import Required Libraries\n",
    "```python\n",
    "import pandas as pd\n",
    "import numpy as np\n",
    "from sklearn.model_selection import train_test_split\n",
    "from sklearn.preprocessing import StandardScaler, OneHotEncoder\n",
    "from sklearn.compose import ColumnTransformer\n",
    "from sklearn.metrics import classification_report, confusion_matrix\n",
    "from sklearn.pipeline import Pipeline\n",
    "\n",
    "import tensorflow as tf\n",
    "from tensorflow import keras\n",
    "from tensorflow.keras import layers, callbacks\n",
    "from datetime import datetime\n",
    "import os\n"
   ]
  },
  {
   "cell_type": "markdown",
   "id": "b80fa046",
   "metadata": {},
   "source": [
    "# 2️⃣ Load Dataset\n",
    "```python\n",
    "df = pd.read_csv('your_file.csv')   # 🔹 Replace with your dataset path\n",
    "X = df.drop('target', axis=1)       # 🔹 Replace 'target' with actual target column\n",
    "y = df['target']"
   ]
  },
  {
   "cell_type": "markdown",
   "id": "c763f9c6",
   "metadata": {},
   "source": [
    "# 3️⃣ Data Preprocessing\n",
    "```python\n",
    "categorical_cols = X.select_dtypes(include=['object', 'category']).columns\n",
    "numerical_cols = X.select_dtypes(include=['int64', 'float64']).columns\n",
    "\n",
    "numeric_transformer = StandardScaler()\n",
    "categorical_transformer = OneHotEncoder(drop='first', handle_unknown='ignore')\n",
    "\n",
    "preprocessor = ColumnTransformer(\n",
    "    transformers=[\n",
    "        ('num', numeric_transformer, numerical_cols),\n",
    "        ('cat', categorical_transformer, categorical_cols)\n",
    "    ])\n"
   ]
  },
  {
   "cell_type": "markdown",
   "id": "21b850a1",
   "metadata": {},
   "source": [
    "# 4️⃣ Train-Test Split\n",
    "```python\n",
    "X_train, X_test, y_train, y_test = train_test_split(\n",
    "    X, y, test_size=0.2, random_state=42\n",
    ")"
   ]
  },
  {
   "cell_type": "markdown",
   "id": "410cf4a7",
   "metadata": {},
   "source": [
    "# 5️⃣ Transform Data\n",
    "```python\n",
    "X_train = preprocessor.fit_transform(X_train)\n",
    "X_test = preprocessor.transform(X_test)"
   ]
  },
  {
   "cell_type": "markdown",
   "id": "2bee6679",
   "metadata": {},
   "source": [
    "# 6️⃣ Build ANN Model\n",
    "```python\n",
    "model = keras.Sequential([\n",
    "    layers.Input(shape=(X_train.shape[1],)),\n",
    "    layers.Dense(64, activation='relu'),\n",
    "    layers.Dropout(0.3),\n",
    "    layers.Dense(32, activation='relu'),\n",
    "    layers.Dropout(0.2),\n",
    "    layers.Dense(1, activation='sigmoid')\n",
    "])\n",
    "\n",
    "model.compile(optimizer='adam', loss='binary_crossentropy', metrics=['accuracy'])\n",
    "model.summary()"
   ]
  },
  {
   "cell_type": "markdown",
   "id": "4ec0dda8",
   "metadata": {},
   "source": [
    "# 7️⃣ Configure Callbacks (TensorBoard & EarlyStopping)\n",
    "```python\n",
    "log_dir = os.path.join(\"logs/fit\", datetime.now().strftime(\"%Y%m%d-%H%M%S\"))\n",
    "tensorboard_cb = callbacks.TensorBoard(log_dir=log_dir, histogram_freq=1)\n",
    "earlystop_cb = callbacks.EarlyStopping(monitor='val_loss', patience=5, restore_best_weights=True)"
   ]
  },
  {
   "cell_type": "markdown",
   "id": "3264171d",
   "metadata": {},
   "source": [
    "# 8️⃣ Train Model\n",
    "```python\n",
    "history = model.fit(\n",
    "    X_train, y_train,\n",
    "    validation_split=0.2,\n",
    "    epochs=50,\n",
    "    batch_size=32,\n",
    "    callbacks=[tensorboard_cb, earlystop_cb],\n",
    "    verbose=1\n",
    ")"
   ]
  },
  {
   "cell_type": "markdown",
   "id": "07de8142",
   "metadata": {},
   "source": [
    "# 9️⃣ Evaluate Model\n",
    "```python\n",
    "loss, accuracy = model.evaluate(X_test, y_test)\n",
    "print(f\"✅ Test Accuracy: {accuracy:.4f}\")\n",
    "\n",
    "y_pred = (model.predict(X_test) > 0.5).astype(\"int32\")\n",
    "print(\"\\nClassification Report:\")\n",
    "print(classification_report(y_test, y_pred))\n",
    "print(\"\\nConfusion Matrix:\")\n",
    "print(confusion_matrix(y_test, y_pred))"
   ]
  },
  {
   "cell_type": "markdown",
   "id": "0abf0148",
   "metadata": {},
   "source": [
    "# 🔟 TensorBoard Visualization\n",
    "```python\n",
    "print(\"\\n🚀 To visualize training metrics, run the following command in terminal:\")\n",
    "print(\"tensorboard --logdir logs/fit\")\n",
    "print(\"Then open the provided URL (usually http://localhost:6006).\")"
   ]
  },
  {
   "cell_type": "markdown",
   "id": "e2926c82",
   "metadata": {},
   "source": []
  }
 ],
 "metadata": {
  "language_info": {
   "name": "python"
  }
 },
 "nbformat": 4,
 "nbformat_minor": 5
}
